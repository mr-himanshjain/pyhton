{
 "cells": [
  {
   "cell_type": "code",
   "execution_count": null,
   "id": "2349e186",
   "metadata": {
    "scrolled": true
   },
   "outputs": [],
   "source": [
    "\n",
    "\n"
   ]
  },
  {
   "cell_type": "code",
   "execution_count": null,
   "id": "9a340064",
   "metadata": {},
   "outputs": [],
   "source": []
  },
  {
   "cell_type": "code",
   "execution_count": 47,
   "id": "1b001efc",
   "metadata": {},
   "outputs": [
    {
     "name": "stdout",
     "output_type": "stream",
     "text": [
      "Current age is  29 --adding a year.\n",
      "new age is  30\n"
     ]
    },
    {
     "data": {
      "text/plain": [
       "31"
      ]
     },
     "execution_count": 47,
     "metadata": {},
     "output_type": "execute_result"
    }
   ],
   "source": [
    "import simplejson as json\n",
    "import os\n",
    "\n",
    "if os.path.isfile(\"./ages.json\") and os.stat(\"./ages.json\").st_size != 0:\n",
    "    old_file = open(\"./ages.json\",\"r+\")\n",
    "    data = json.loads(old_file.read())\n",
    "    print(\"Current age is \", data[\"age\"],\"--adding a year.\")\n",
    "    data[\"age\"]=data[\"age\"]+1\n",
    "    print(\"new age is \",data[\"age\"])\n",
    "else:\n",
    "    old_file = open(\"./ages.json\",\"w+\")\n",
    "    data = {\"name\": \"himanshu\", \"age\": 22}\n",
    "    print(\"no such file found, setting default age to\",data[\"age\"])\n",
    "    \n",
    "old_file.seek(0)\n",
    "old_file.write(json.dumps(data))"
   ]
  },
  {
   "cell_type": "code",
   "execution_count": null,
   "id": "048521ac",
   "metadata": {},
   "outputs": [],
   "source": []
  },
  {
   "cell_type": "code",
   "execution_count": null,
   "id": "bf5eca79",
   "metadata": {},
   "outputs": [],
   "source": []
  }
 ],
 "metadata": {
  "kernelspec": {
   "display_name": "Python 3",
   "language": "python",
   "name": "python3"
  },
  "language_info": {
   "codemirror_mode": {
    "name": "ipython",
    "version": 3
   },
   "file_extension": ".py",
   "mimetype": "text/x-python",
   "name": "python",
   "nbconvert_exporter": "python",
   "pygments_lexer": "ipython3",
   "version": "3.8.8"
  }
 },
 "nbformat": 4,
 "nbformat_minor": 5
}
